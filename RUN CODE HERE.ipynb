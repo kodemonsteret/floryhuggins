{
 "cells": [
  {
   "cell_type": "code",
   "execution_count": 4,
   "id": "d687c2ce",
   "metadata": {},
   "outputs": [],
   "source": [
    "#IMPORTS\n",
    "\n",
    "import funcs as fh\n",
    "import numpy as np\n",
    "import matplotlib.pyplot as plt\n",
    "import scipy\n",
    "import importlib\n",
    "import os\n",
    "import cupy as cp\n",
    "import shutil"
   ]
  },
  {
   "cell_type": "code",
   "execution_count": null,
   "id": "158d13ec",
   "metadata": {},
   "outputs": [
    {
     "name": "stderr",
     "output_type": "stream",
     "text": [
      "c:\\Users\\soere\\AppData\\Local\\Programs\\Python\\Python313\\Lib\\site-packages\\scipy\\sparse\\_index.py:210: SparseEfficiencyWarning: Changing the sparsity structure of a csr_matrix is expensive. lil and dok are more efficient.\n",
      "  self._set_arrayXarray(i, j, x)\n"
     ]
    },
    {
     "name": "stdout",
     "output_type": "stream",
     "text": [
      "Integrating...\n",
      "Progress: 38.0 %\r"
     ]
    }
   ],
   "source": [
    "#EXAMPLE TEST WINDOW\n",
    "importlib.reload(fh)\n",
    "\n",
    "#DIMENSIONS OF GRID (can be all dimensions)\n",
    "dim = [60,60]\n",
    "\n",
    "#Make pseudo-random grid (if not using one of the predefined initial conditions in /INITS)\n",
    "grid0 = fh.gmm(dim=dim, mu1=0.4, mu2 = 0.3,sigma1=0.01,sigma2=0.01)\n",
    "\n",
    "## predefined initial conditions\n",
    "#OneDrop\n",
    "# grid0 = np.load(os.path.join('INITS','OneDrop.npy')) \n",
    "# dim = [30,30] \n",
    "\n",
    "#OneDrop3D\n",
    "# grid0 = np.load(os.path.join('INITS','OneDrop3D.npy'))\n",
    "#dim = [30,30,30]\n",
    "\n",
    "\n",
    "\n",
    "\n",
    "# !!!  useGPU = True requires cupy  !!!\n",
    "#Change the second input if you want to have different grid spacing\n",
    "derivfunc = fh.TimePartial(dim,dim, useGPU=False) \n",
    "#Takes a list of interactions parameters [chi_ab, chi_ac, chi_bc] and values for nu and kbt\n",
    "derivfunc.setup_FH([4,1,1],1,1)\n",
    "\n",
    "Anim = fh.integrator(grid0, derivfunc, dt= 0.001, t_end= 50, scheme= 'explicit', chemtype = 'destroy',klist=[0.08,0.04,0.08*8,0.24])\n",
    "\n",
    "#set number of frames\n",
    "Anim(N_frames=10)\n",
    "\n",
    "#See next cell for how to save"
   ]
  },
  {
   "cell_type": "code",
   "execution_count": null,
   "id": "6d4a0a4f",
   "metadata": {},
   "outputs": [],
   "source": [
    "Anim.save('test_anim')\n"
   ]
  }
 ],
 "metadata": {
  "kernelspec": {
   "display_name": "Python 3",
   "language": "python",
   "name": "python3"
  },
  "language_info": {
   "codemirror_mode": {
    "name": "ipython",
    "version": 3
   },
   "file_extension": ".py",
   "mimetype": "text/x-python",
   "name": "python",
   "nbconvert_exporter": "python",
   "pygments_lexer": "ipython3",
   "version": "3.13.1"
  }
 },
 "nbformat": 4,
 "nbformat_minor": 5
}
